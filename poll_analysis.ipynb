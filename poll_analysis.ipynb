{
 "cells": [
  {
   "cell_type": "code",
   "execution_count": 47,
   "metadata": {
    "collapsed": true
   },
   "outputs": [],
   "source": [
    "import pandas as pd\n",
    "import numpy as np\n",
    "\n",
    "import matplotlib\n",
    "%matplotlib inline\n",
    "matplotlib.style.use('ggplot')"
   ]
  },
  {
   "cell_type": "code",
   "execution_count": 4,
   "metadata": {
    "collapsed": false
   },
   "outputs": [
    {
     "data": {
      "text/html": [
       "<div>\n",
       "<table border=\"1\" class=\"dataframe\">\n",
       "  <thead>\n",
       "    <tr style=\"text-align: right;\">\n",
       "      <th></th>\n",
       "      <th>RespondentID</th>\n",
       "      <th>Do you celebrate Thanksgiving?</th>\n",
       "      <th>What is typically the main dish at your Thanksgiving dinner?</th>\n",
       "      <th>What is typically the main dish at your Thanksgiving dinner? - Other (please specify)</th>\n",
       "      <th>How is the main dish typically cooked?</th>\n",
       "      <th>How is the main dish typically cooked? - Other (please specify)</th>\n",
       "      <th>What kind of stuffing/dressing do you typically have?</th>\n",
       "      <th>What kind of stuffing/dressing do you typically have? - Other (please specify)</th>\n",
       "      <th>What type of cranberry saucedo you typically have?</th>\n",
       "      <th>What type of cranberry saucedo you typically have? - Other (please specify)</th>\n",
       "      <th>...</th>\n",
       "      <th>Have you ever tried to meet up with hometown friends on Thanksgiving night?</th>\n",
       "      <th>Have you ever attended a \"Friendsgiving?\"</th>\n",
       "      <th>Will you shop any Black Friday sales on Thanksgiving Day?</th>\n",
       "      <th>Do you work in retail?</th>\n",
       "      <th>Will you employer make you work on Black Friday?</th>\n",
       "      <th>How would you describe where you live?</th>\n",
       "      <th>Age</th>\n",
       "      <th>What is your gender?</th>\n",
       "      <th>How much total combined money did all members of your HOUSEHOLD earn last year?</th>\n",
       "      <th>US Region</th>\n",
       "    </tr>\n",
       "  </thead>\n",
       "  <tbody>\n",
       "    <tr>\n",
       "      <th>0</th>\n",
       "      <td>4337954960</td>\n",
       "      <td>Yes</td>\n",
       "      <td>Turkey</td>\n",
       "      <td>NaN</td>\n",
       "      <td>Baked</td>\n",
       "      <td>NaN</td>\n",
       "      <td>Bread-based</td>\n",
       "      <td>NaN</td>\n",
       "      <td>None</td>\n",
       "      <td>NaN</td>\n",
       "      <td>...</td>\n",
       "      <td>Yes</td>\n",
       "      <td>No</td>\n",
       "      <td>No</td>\n",
       "      <td>No</td>\n",
       "      <td>NaN</td>\n",
       "      <td>Suburban</td>\n",
       "      <td>18 - 29</td>\n",
       "      <td>Male</td>\n",
       "      <td>$75,000 to $99,999</td>\n",
       "      <td>Middle Atlantic</td>\n",
       "    </tr>\n",
       "    <tr>\n",
       "      <th>1</th>\n",
       "      <td>4337951949</td>\n",
       "      <td>Yes</td>\n",
       "      <td>Turkey</td>\n",
       "      <td>NaN</td>\n",
       "      <td>Baked</td>\n",
       "      <td>NaN</td>\n",
       "      <td>Bread-based</td>\n",
       "      <td>NaN</td>\n",
       "      <td>Other (please specify)</td>\n",
       "      <td>Homemade cranberry gelatin ring</td>\n",
       "      <td>...</td>\n",
       "      <td>No</td>\n",
       "      <td>No</td>\n",
       "      <td>Yes</td>\n",
       "      <td>No</td>\n",
       "      <td>NaN</td>\n",
       "      <td>Rural</td>\n",
       "      <td>18 - 29</td>\n",
       "      <td>Female</td>\n",
       "      <td>$50,000 to $74,999</td>\n",
       "      <td>East South Central</td>\n",
       "    </tr>\n",
       "    <tr>\n",
       "      <th>2</th>\n",
       "      <td>4337935621</td>\n",
       "      <td>Yes</td>\n",
       "      <td>Turkey</td>\n",
       "      <td>NaN</td>\n",
       "      <td>Roasted</td>\n",
       "      <td>NaN</td>\n",
       "      <td>Rice-based</td>\n",
       "      <td>NaN</td>\n",
       "      <td>Homemade</td>\n",
       "      <td>NaN</td>\n",
       "      <td>...</td>\n",
       "      <td>Yes</td>\n",
       "      <td>Yes</td>\n",
       "      <td>Yes</td>\n",
       "      <td>No</td>\n",
       "      <td>NaN</td>\n",
       "      <td>Suburban</td>\n",
       "      <td>18 - 29</td>\n",
       "      <td>Male</td>\n",
       "      <td>$0 to $9,999</td>\n",
       "      <td>Mountain</td>\n",
       "    </tr>\n",
       "    <tr>\n",
       "      <th>3</th>\n",
       "      <td>4337933040</td>\n",
       "      <td>Yes</td>\n",
       "      <td>Turkey</td>\n",
       "      <td>NaN</td>\n",
       "      <td>Baked</td>\n",
       "      <td>NaN</td>\n",
       "      <td>Bread-based</td>\n",
       "      <td>NaN</td>\n",
       "      <td>Homemade</td>\n",
       "      <td>NaN</td>\n",
       "      <td>...</td>\n",
       "      <td>Yes</td>\n",
       "      <td>No</td>\n",
       "      <td>No</td>\n",
       "      <td>No</td>\n",
       "      <td>NaN</td>\n",
       "      <td>Urban</td>\n",
       "      <td>30 - 44</td>\n",
       "      <td>Male</td>\n",
       "      <td>$200,000 and up</td>\n",
       "      <td>Pacific</td>\n",
       "    </tr>\n",
       "    <tr>\n",
       "      <th>4</th>\n",
       "      <td>4337931983</td>\n",
       "      <td>Yes</td>\n",
       "      <td>Tofurkey</td>\n",
       "      <td>NaN</td>\n",
       "      <td>Baked</td>\n",
       "      <td>NaN</td>\n",
       "      <td>Bread-based</td>\n",
       "      <td>NaN</td>\n",
       "      <td>Canned</td>\n",
       "      <td>NaN</td>\n",
       "      <td>...</td>\n",
       "      <td>Yes</td>\n",
       "      <td>No</td>\n",
       "      <td>No</td>\n",
       "      <td>No</td>\n",
       "      <td>NaN</td>\n",
       "      <td>Urban</td>\n",
       "      <td>30 - 44</td>\n",
       "      <td>Male</td>\n",
       "      <td>$100,000 to $124,999</td>\n",
       "      <td>Pacific</td>\n",
       "    </tr>\n",
       "  </tbody>\n",
       "</table>\n",
       "<p>5 rows × 65 columns</p>\n",
       "</div>"
      ],
      "text/plain": [
       "   RespondentID Do you celebrate Thanksgiving?  \\\n",
       "0    4337954960                            Yes   \n",
       "1    4337951949                            Yes   \n",
       "2    4337935621                            Yes   \n",
       "3    4337933040                            Yes   \n",
       "4    4337931983                            Yes   \n",
       "\n",
       "  What is typically the main dish at your Thanksgiving dinner?  \\\n",
       "0                                             Turkey             \n",
       "1                                             Turkey             \n",
       "2                                             Turkey             \n",
       "3                                             Turkey             \n",
       "4                                           Tofurkey             \n",
       "\n",
       "  What is typically the main dish at your Thanksgiving dinner? - Other (please specify)  \\\n",
       "0                                                NaN                                      \n",
       "1                                                NaN                                      \n",
       "2                                                NaN                                      \n",
       "3                                                NaN                                      \n",
       "4                                                NaN                                      \n",
       "\n",
       "  How is the main dish typically cooked?  \\\n",
       "0                                  Baked   \n",
       "1                                  Baked   \n",
       "2                                Roasted   \n",
       "3                                  Baked   \n",
       "4                                  Baked   \n",
       "\n",
       "  How is the main dish typically cooked? - Other (please specify)  \\\n",
       "0                                                NaN                \n",
       "1                                                NaN                \n",
       "2                                                NaN                \n",
       "3                                                NaN                \n",
       "4                                                NaN                \n",
       "\n",
       "  What kind of stuffing/dressing do you typically have?  \\\n",
       "0                                        Bread-based      \n",
       "1                                        Bread-based      \n",
       "2                                         Rice-based      \n",
       "3                                        Bread-based      \n",
       "4                                        Bread-based      \n",
       "\n",
       "  What kind of stuffing/dressing do you typically have? - Other (please specify)  \\\n",
       "0                                                NaN                               \n",
       "1                                                NaN                               \n",
       "2                                                NaN                               \n",
       "3                                                NaN                               \n",
       "4                                                NaN                               \n",
       "\n",
       "  What type of cranberry saucedo you typically have?  \\\n",
       "0                                               None   \n",
       "1                             Other (please specify)   \n",
       "2                                           Homemade   \n",
       "3                                           Homemade   \n",
       "4                                             Canned   \n",
       "\n",
       "  What type of cranberry saucedo you typically have? - Other (please specify)  \\\n",
       "0                                                NaN                            \n",
       "1                    Homemade cranberry gelatin ring                            \n",
       "2                                                NaN                            \n",
       "3                                                NaN                            \n",
       "4                                                NaN                            \n",
       "\n",
       "          ...          \\\n",
       "0         ...           \n",
       "1         ...           \n",
       "2         ...           \n",
       "3         ...           \n",
       "4         ...           \n",
       "\n",
       "  Have you ever tried to meet up with hometown friends on Thanksgiving night?  \\\n",
       "0                                                Yes                            \n",
       "1                                                 No                            \n",
       "2                                                Yes                            \n",
       "3                                                Yes                            \n",
       "4                                                Yes                            \n",
       "\n",
       "  Have you ever attended a \"Friendsgiving?\"  \\\n",
       "0                                        No   \n",
       "1                                        No   \n",
       "2                                       Yes   \n",
       "3                                        No   \n",
       "4                                        No   \n",
       "\n",
       "  Will you shop any Black Friday sales on Thanksgiving Day?  \\\n",
       "0                                                 No          \n",
       "1                                                Yes          \n",
       "2                                                Yes          \n",
       "3                                                 No          \n",
       "4                                                 No          \n",
       "\n",
       "  Do you work in retail? Will you employer make you work on Black Friday?  \\\n",
       "0                     No                                              NaN   \n",
       "1                     No                                              NaN   \n",
       "2                     No                                              NaN   \n",
       "3                     No                                              NaN   \n",
       "4                     No                                              NaN   \n",
       "\n",
       "  How would you describe where you live?      Age What is your gender?  \\\n",
       "0                               Suburban  18 - 29                 Male   \n",
       "1                                  Rural  18 - 29               Female   \n",
       "2                               Suburban  18 - 29                 Male   \n",
       "3                                  Urban  30 - 44                 Male   \n",
       "4                                  Urban  30 - 44                 Male   \n",
       "\n",
       "  How much total combined money did all members of your HOUSEHOLD earn last year?  \\\n",
       "0                                 $75,000 to $99,999                                \n",
       "1                                 $50,000 to $74,999                                \n",
       "2                                       $0 to $9,999                                \n",
       "3                                    $200,000 and up                                \n",
       "4                               $100,000 to $124,999                                \n",
       "\n",
       "            US Region  \n",
       "0     Middle Atlantic  \n",
       "1  East South Central  \n",
       "2            Mountain  \n",
       "3             Pacific  \n",
       "4             Pacific  \n",
       "\n",
       "[5 rows x 65 columns]"
      ]
     },
     "execution_count": 4,
     "metadata": {},
     "output_type": "execute_result"
    }
   ],
   "source": [
    "# https://github.com/fivethirtyeight/data/tree/master/thanksgiving-2015\n",
    "data = pd.read_csv('data/thanksgiving-2015-poll-data.csv', encoding=\"Latin-1\")\n",
    "data.head()"
   ]
  },
  {
   "cell_type": "code",
   "execution_count": 6,
   "metadata": {
    "collapsed": false
   },
   "outputs": [
    {
     "data": {
      "text/plain": [
       "array(['Yes', 'No'], dtype=object)"
      ]
     },
     "execution_count": 6,
     "metadata": {},
     "output_type": "execute_result"
    }
   ],
   "source": [
    "data['Do you celebrate Thanksgiving?'].unique()"
   ]
  },
  {
   "cell_type": "code",
   "execution_count": 7,
   "metadata": {
    "collapsed": false
   },
   "outputs": [
    {
     "data": {
      "text/plain": [
       "Yes    980\n",
       "No      78\n",
       "Name: Do you celebrate Thanksgiving?, dtype: int64"
      ]
     },
     "execution_count": 7,
     "metadata": {},
     "output_type": "execute_result"
    }
   ],
   "source": [
    "data['Do you celebrate Thanksgiving?'].value_counts()"
   ]
  },
  {
   "cell_type": "code",
   "execution_count": 10,
   "metadata": {
    "collapsed": false
   },
   "outputs": [
    {
     "data": {
      "text/plain": [
       "Index(['RespondentID', 'Do you celebrate Thanksgiving?',\n",
       "       'What is typically the main dish at your Thanksgiving dinner?',\n",
       "       'What is typically the main dish at your Thanksgiving dinner? - Other (please specify)',\n",
       "       'How is the main dish typically cooked?',\n",
       "       'How is the main dish typically cooked? - Other (please specify)',\n",
       "       'What kind of stuffing/dressing do you typically have?',\n",
       "       'What kind of stuffing/dressing do you typically have? - Other (please specify)',\n",
       "       'What type of cranberry saucedo you typically have?',\n",
       "       'What type of cranberry saucedo you typically have? - Other (please specify)',\n",
       "       'Do you typically have gravy?',\n",
       "       'Which of these side dishes aretypically served at your Thanksgiving dinner? Please select all that apply. - Brussel sprouts',\n",
       "       'Which of these side dishes aretypically served at your Thanksgiving dinner? Please select all that apply. - Carrots',\n",
       "       'Which of these side dishes aretypically served at your Thanksgiving dinner? Please select all that apply. - Cauliflower',\n",
       "       'Which of these side dishes aretypically served at your Thanksgiving dinner? Please select all that apply. - Corn',\n",
       "       'Which of these side dishes aretypically served at your Thanksgiving dinner? Please select all that apply. - Cornbread',\n",
       "       'Which of these side dishes aretypically served at your Thanksgiving dinner? Please select all that apply. - Fruit salad',\n",
       "       'Which of these side dishes aretypically served at your Thanksgiving dinner? Please select all that apply. - Green beans/green bean casserole',\n",
       "       'Which of these side dishes aretypically served at your Thanksgiving dinner? Please select all that apply. - Macaroni and cheese',\n",
       "       'Which of these side dishes aretypically served at your Thanksgiving dinner? Please select all that apply. - Mashed potatoes',\n",
       "       'Which of these side dishes aretypically served at your Thanksgiving dinner? Please select all that apply. - Rolls/biscuits',\n",
       "       'Which of these side dishes aretypically served at your Thanksgiving dinner? Please select all that apply. - Squash',\n",
       "       'Which of these side dishes aretypically served at your Thanksgiving dinner? Please select all that apply. - Vegetable salad',\n",
       "       'Which of these side dishes aretypically served at your Thanksgiving dinner? Please select all that apply. - Yams/sweet potato casserole',\n",
       "       'Which of these side dishes aretypically served at your Thanksgiving dinner? Please select all that apply. - Other (please specify)',\n",
       "       'Which of these side dishes aretypically served at your Thanksgiving dinner? Please select all that apply. - Other (please specify).1',\n",
       "       'Which type of pie is typically served at your Thanksgiving dinner? Please select all that apply. - Apple',\n",
       "       'Which type of pie is typically served at your Thanksgiving dinner? Please select all that apply. - Buttermilk',\n",
       "       'Which type of pie is typically served at your Thanksgiving dinner? Please select all that apply. - Cherry',\n",
       "       'Which type of pie is typically served at your Thanksgiving dinner? Please select all that apply. - Chocolate',\n",
       "       'Which type of pie is typically served at your Thanksgiving dinner? Please select all that apply. - Coconut cream',\n",
       "       'Which type of pie is typically served at your Thanksgiving dinner? Please select all that apply. - Key lime',\n",
       "       'Which type of pie is typically served at your Thanksgiving dinner? Please select all that apply. - Peach',\n",
       "       'Which type of pie is typically served at your Thanksgiving dinner? Please select all that apply. - Pecan',\n",
       "       'Which type of pie is typically served at your Thanksgiving dinner? Please select all that apply. - Pumpkin',\n",
       "       'Which type of pie is typically served at your Thanksgiving dinner? Please select all that apply. - Sweet Potato',\n",
       "       'Which type of pie is typically served at your Thanksgiving dinner? Please select all that apply. - None',\n",
       "       'Which type of pie is typically served at your Thanksgiving dinner? Please select all that apply. - Other (please specify)',\n",
       "       'Which type of pie is typically served at your Thanksgiving dinner? Please select all that apply. - Other (please specify).1',\n",
       "       'Which of these desserts do you typically have at Thanksgiving dinner? Please select all that apply.   - Apple cobbler',\n",
       "       'Which of these desserts do you typically have at Thanksgiving dinner? Please select all that apply.   - Blondies',\n",
       "       'Which of these desserts do you typically have at Thanksgiving dinner? Please select all that apply.   - Brownies',\n",
       "       'Which of these desserts do you typically have at Thanksgiving dinner? Please select all that apply.   - Carrot cake',\n",
       "       'Which of these desserts do you typically have at Thanksgiving dinner? Please select all that apply.   - Cheesecake',\n",
       "       'Which of these desserts do you typically have at Thanksgiving dinner? Please select all that apply.   - Cookies',\n",
       "       'Which of these desserts do you typically have at Thanksgiving dinner? Please select all that apply.   - Fudge',\n",
       "       'Which of these desserts do you typically have at Thanksgiving dinner? Please select all that apply.   - Ice cream',\n",
       "       'Which of these desserts do you typically have at Thanksgiving dinner? Please select all that apply.   - Peach cobbler',\n",
       "       'Which of these desserts do you typically have at Thanksgiving dinner? Please select all that apply.   - None',\n",
       "       'Which of these desserts do you typically have at Thanksgiving dinner? Please select all that apply.   - Other (please specify)',\n",
       "       'Which of these desserts do you typically have at Thanksgiving dinner? Please select all that apply.   - Other (please specify).1',\n",
       "       'Do you typically pray before or after the Thanksgiving meal?',\n",
       "       'How far will you travel for Thanksgiving?',\n",
       "       'Will you watch any of the following programs on Thanksgiving? Please select all that apply. - Macy's Parade',\n",
       "       'What's the age cutoff at your \"kids' table\" at Thanksgiving?',\n",
       "       'Have you ever tried to meet up with hometown friends on Thanksgiving night?',\n",
       "       'Have you ever attended a \"Friendsgiving?\"',\n",
       "       'Will you shop any Black Friday sales on Thanksgiving Day?',\n",
       "       'Do you work in retail?',\n",
       "       'Will you employer make you work on Black Friday?',\n",
       "       'How would you describe where you live?', 'Age', 'What is your gender?',\n",
       "       'How much total combined money did all members of your HOUSEHOLD earn last year?',\n",
       "       'US Region'],\n",
       "      dtype='object')"
      ]
     },
     "execution_count": 10,
     "metadata": {},
     "output_type": "execute_result"
    }
   ],
   "source": [
    "data.columns"
   ]
  },
  {
   "cell_type": "code",
   "execution_count": 13,
   "metadata": {
    "collapsed": false
   },
   "outputs": [
    {
     "data": {
      "text/plain": [
       "Female    544\n",
       "Male      481\n",
       "NaN        33\n",
       "Name: What is your gender?, dtype: int64"
      ]
     },
     "execution_count": 13,
     "metadata": {},
     "output_type": "execute_result"
    }
   ],
   "source": [
    "data['What is your gender?'].value_counts(dropna=False)"
   ]
  },
  {
   "cell_type": "code",
   "execution_count": 57,
   "metadata": {
    "collapsed": false
   },
   "outputs": [
    {
     "data": {
      "text/plain": [
       "1057    True\n",
       "Name: What is your gender?, dtype: bool"
      ]
     },
     "execution_count": 57,
     "metadata": {},
     "output_type": "execute_result"
    }
   ],
   "source": [
    "data['What is your gender?'][-1:].isnull()\n",
    "# returns series"
   ]
  },
  {
   "cell_type": "code",
   "execution_count": 60,
   "metadata": {
    "collapsed": false
   },
   "outputs": [
    {
     "data": {
      "text/plain": [
       "True"
      ]
     },
     "execution_count": 60,
     "metadata": {},
     "output_type": "execute_result"
    }
   ],
   "source": [
    "math.isnan(data['What is your gender?'][-1:])\n",
    "# returns bool"
   ]
  },
  {
   "cell_type": "code",
   "execution_count": 40,
   "metadata": {
    "collapsed": false
   },
   "outputs": [
    {
     "data": {
      "text/plain": [
       "pandas.core.series.Series"
      ]
     },
     "execution_count": 40,
     "metadata": {},
     "output_type": "execute_result"
    }
   ],
   "source": [
    "type(data['What is your gender?'])"
   ]
  },
  {
   "cell_type": "code",
   "execution_count": 35,
   "metadata": {
    "collapsed": true
   },
   "outputs": [],
   "source": [
    "import math\n",
    "\n",
    "def gender_code(gender_string):\n",
    "    if isinstance(gender_string, float) and math.isnan(gender_string):\n",
    "        return gender_string\n",
    "    return int(gender_string == 'Female')"
   ]
  },
  {
   "cell_type": "code",
   "execution_count": 37,
   "metadata": {
    "collapsed": false
   },
   "outputs": [
    {
     "data": {
      "text/plain": [
       " 1.0    544\n",
       " 0.0    481\n",
       "NaN      33\n",
       "Name: gender, dtype: int64"
      ]
     },
     "execution_count": 37,
     "metadata": {},
     "output_type": "execute_result"
    }
   ],
   "source": [
    "data['gender'] = data['What is your gender?'].apply(gender_code)\n",
    "data[\"gender\"].value_counts(dropna=False)"
   ]
  },
  {
   "cell_type": "markdown",
   "metadata": {},
   "source": [
    "We can use the apply method on DataFrames as well as Series. When we use the pandas.DataFrame.apply method, an entire row or column will be passed into the function we specify. By default, apply will work across each column in the DataFrame. If we pass the axis=1 keyword argument, it will work across each row."
   ]
  },
  {
   "cell_type": "code",
   "execution_count": 43,
   "metadata": {
    "collapsed": false
   },
   "outputs": [
    {
     "data": {
      "text/plain": [
       "RespondentID                                                                             object\n",
       "Do you celebrate Thanksgiving?                                                           object\n",
       "What is typically the main dish at your Thanksgiving dinner?                             object\n",
       "What is typically the main dish at your Thanksgiving dinner? - Other (please specify)    object\n",
       "How is the main dish typically cooked?                                                   object\n",
       "dtype: object"
      ]
     },
     "execution_count": 43,
     "metadata": {},
     "output_type": "execute_result"
    }
   ],
   "source": [
    "data.apply(lambda x: x.dtype).head()"
   ]
  },
  {
   "cell_type": "code",
   "execution_count": 46,
   "metadata": {
    "collapsed": false
   },
   "outputs": [
    {
     "data": {
      "text/plain": [
       "$25,000 to $49,999      180\n",
       "Prefer not to answer    136\n",
       "$50,000 to $74,999      135\n",
       "$75,000 to $99,999      133\n",
       "$100,000 to $124,999    111\n",
       "$200,000 and up          80\n",
       "$10,000 to $24,999       68\n",
       "$0 to $9,999             66\n",
       "$125,000 to $149,999     49\n",
       "$150,000 to $174,999     40\n",
       "NaN                      33\n",
       "$175,000 to $199,999     27\n",
       "Name: How much total combined money did all members of your HOUSEHOLD earn last year?, dtype: int64"
      ]
     },
     "execution_count": 46,
     "metadata": {},
     "output_type": "execute_result"
    }
   ],
   "source": [
    "data['How much total combined money did all members of your HOUSEHOLD earn last year?'].value_counts(dropna=False)"
   ]
  },
  {
   "cell_type": "code",
   "execution_count": 67,
   "metadata": {
    "collapsed": true
   },
   "outputs": [],
   "source": [
    "def clean_income(value):\n",
    "    if value == '$200,000 and up':\n",
    "        return 200000\n",
    "    if value == 'Prefer not to answer' or (isinstance(value, float) and math.isnan(value)):\n",
    "        return np.nan\n",
    "    value = value.replace(',', '').replace('$','')\n",
    "    high, low = map(int, value.split(' to '))\n",
    "    return (high + low) / 2"
   ]
  },
  {
   "cell_type": "code",
   "execution_count": 69,
   "metadata": {
    "collapsed": false
   },
   "outputs": [
    {
     "name": "stdout",
     "output_type": "stream",
     "text": [
      "162499.5\n",
      "nan\n"
     ]
    }
   ],
   "source": [
    "print(clean_income('$150,000 to $174,999'))\n",
    "print(clean_income('Prefer not to answer'))"
   ]
  },
  {
   "cell_type": "code",
   "execution_count": 71,
   "metadata": {
    "collapsed": false
   },
   "outputs": [],
   "source": [
    "data['income'] = data['How much total combined money did all members of your HOUSEHOLD earn last year?'].apply(clean_income)"
   ]
  },
  {
   "cell_type": "code",
   "execution_count": 72,
   "metadata": {
    "collapsed": false
   },
   "outputs": [
    {
     "data": {
      "text/plain": [
       " 37499.5     180\n",
       "NaN          169\n",
       " 62499.5     135\n",
       " 87499.5     133\n",
       " 112499.5    111\n",
       " 200000.0     80\n",
       " 17499.5      68\n",
       " 4999.5       66\n",
       " 137499.5     49\n",
       " 162499.5     40\n",
       " 187499.5     27\n",
       "Name: income, dtype: int64"
      ]
     },
     "execution_count": 72,
     "metadata": {},
     "output_type": "execute_result"
    }
   ],
   "source": [
    "data['income'].value_counts(dropna=False)"
   ]
  },
  {
   "cell_type": "code",
   "execution_count": 73,
   "metadata": {
    "collapsed": false
   },
   "outputs": [
    {
     "data": {
      "text/plain": [
       "Canned                    502\n",
       "Homemade                  301\n",
       "None                      146\n",
       "Other (please specify)     25\n",
       "Name: What type of cranberry saucedo you typically have?, dtype: int64"
      ]
     },
     "execution_count": 73,
     "metadata": {},
     "output_type": "execute_result"
    }
   ],
   "source": [
    "data[\"What type of cranberry saucedo you typically have?\"].value_counts()"
   ]
  },
  {
   "cell_type": "code",
   "execution_count": 74,
   "metadata": {
    "collapsed": true
   },
   "outputs": [],
   "source": [
    "homemade = data[data['What type of cranberry saucedo you typically have?'] == 'Homemade']\n",
    "canned = data[data['What type of cranberry saucedo you typically have?'] == 'Canned']"
   ]
  },
  {
   "cell_type": "code",
   "execution_count": 75,
   "metadata": {
    "collapsed": false
   },
   "outputs": [
    {
     "name": "stdout",
     "output_type": "stream",
     "text": [
      "94878.1072874494\n",
      "83823.40340909091\n"
     ]
    }
   ],
   "source": [
    "print(homemade['income'].mean())\n",
    "print(canned['income'].mean())"
   ]
  },
  {
   "cell_type": "code",
   "execution_count": 76,
   "metadata": {
    "collapsed": true
   },
   "outputs": [],
   "source": [
    "cranberry_group = data.groupby('What type of cranberry saucedo you typically have?')"
   ]
  },
  {
   "cell_type": "code",
   "execution_count": 78,
   "metadata": {
    "collapsed": false
   },
   "outputs": [
    {
     "data": {
      "text/plain": [
       "What type of cranberry saucedo you typically have?\n",
       "Canned                    502\n",
       "Homemade                  301\n",
       "None                      146\n",
       "Other (please specify)     25\n",
       "dtype: int64"
      ]
     },
     "execution_count": 78,
     "metadata": {},
     "output_type": "execute_result"
    }
   ],
   "source": [
    "cranberry_group.size()"
   ]
  },
  {
   "cell_type": "code",
   "execution_count": 79,
   "metadata": {
    "collapsed": false
   },
   "outputs": [
    {
     "data": {
      "text/plain": [
       "Canned                    502\n",
       "Homemade                  301\n",
       "None                      146\n",
       "Other (please specify)     25\n",
       "Name: What type of cranberry saucedo you typically have?, dtype: int64"
      ]
     },
     "execution_count": 79,
     "metadata": {},
     "output_type": "execute_result"
    }
   ],
   "source": [
    "data['What type of cranberry saucedo you typically have?'].value_counts()"
   ]
  },
  {
   "cell_type": "code",
   "execution_count": 82,
   "metadata": {
    "collapsed": false
   },
   "outputs": [
    {
     "name": "stdout",
     "output_type": "stream",
     "text": [
      "Canned\n",
      "(502, 67)\n",
      "<class 'pandas.core.frame.DataFrame'>\n",
      "Homemade\n",
      "(301, 67)\n",
      "<class 'pandas.core.frame.DataFrame'>\n",
      "None\n",
      "(146, 67)\n",
      "<class 'pandas.core.frame.DataFrame'>\n",
      "Other (please specify)\n",
      "(25, 67)\n",
      "<class 'pandas.core.frame.DataFrame'>\n"
     ]
    }
   ],
   "source": [
    "for name, group in cranberry_group:\n",
    "    print(name)\n",
    "    print(group.shape)\n",
    "    print(type(group))"
   ]
  },
  {
   "cell_type": "code",
   "execution_count": 86,
   "metadata": {
    "collapsed": false
   },
   "outputs": [
    {
     "data": {
      "text/plain": [
       "<pandas.core.groupby.SeriesGroupBy object at 0x000002434EBE8908>"
      ]
     },
     "execution_count": 86,
     "metadata": {},
     "output_type": "execute_result"
    }
   ],
   "source": [
    "cranberry_group['income']"
   ]
  },
  {
   "cell_type": "code",
   "execution_count": 85,
   "metadata": {
    "collapsed": false
   },
   "outputs": [
    {
     "data": {
      "text/plain": [
       "What type of cranberry saucedo you typically have?\n",
       "Canned                    502\n",
       "Homemade                  301\n",
       "None                      146\n",
       "Other (please specify)     25\n",
       "dtype: int64"
      ]
     },
     "execution_count": 85,
     "metadata": {},
     "output_type": "execute_result"
    }
   ],
   "source": [
    "cranberry_group['income'].size()"
   ]
  },
  {
   "cell_type": "code",
   "execution_count": 92,
   "metadata": {
    "collapsed": false
   },
   "outputs": [
    {
     "data": {
      "text/plain": [
       "What type of cranberry saucedo you typically have?\n",
       "Canned                    83823.403409\n",
       "Homemade                  94878.107287\n",
       "None                      78886.084034\n",
       "Other (please specify)    86629.978261\n",
       "Name: income, dtype: float64"
      ]
     },
     "execution_count": 92,
     "metadata": {},
     "output_type": "execute_result"
    }
   ],
   "source": [
    "cranberry_group['income'].agg(np.mean)"
   ]
  },
  {
   "cell_type": "code",
   "execution_count": 93,
   "metadata": {
    "collapsed": false
   },
   "outputs": [
    {
     "data": {
      "text/plain": [
       "<matplotlib.axes._subplots.AxesSubplot at 0x2434ec6fd68>"
      ]
     },
     "execution_count": 93,
     "metadata": {},
     "output_type": "execute_result"
    },
    {
     "data": {
      "image/png": "[encoded data removed]",
      "text/plain": [
       "<matplotlib.figure.Figure at 0x2434ec6f6a0>"
      ]
     },
     "metadata": {},
     "output_type": "display_data"
    }
   ],
   "source": [
    "cranberry_group['income'].agg(np.mean).plot(kind='bar')"
   ]
  },
  {
   "cell_type": "code",
   "execution_count": 94,
   "metadata": {
    "collapsed": false
   },
   "outputs": [
    {
     "data": {
      "text/html": [
       "<div>\n",
       "<table border=\"1\" class=\"dataframe\">\n",
       "  <thead>\n",
       "    <tr style=\"text-align: right;\">\n",
       "      <th></th>\n",
       "      <th></th>\n",
       "      <th>RespondentID</th>\n",
       "      <th>gender</th>\n",
       "      <th>income</th>\n",
       "    </tr>\n",
       "    <tr>\n",
       "      <th>What type of cranberry saucedo you typically have?</th>\n",
       "      <th>What is typically the main dish at your Thanksgiving dinner?</th>\n",
       "      <th></th>\n",
       "      <th></th>\n",
       "      <th></th>\n",
       "    </tr>\n",
       "  </thead>\n",
       "  <tbody>\n",
       "    <tr>\n",
       "      <th rowspan=\"7\" valign=\"top\">Canned</th>\n",
       "      <th>Chicken</th>\n",
       "      <td>4336354418</td>\n",
       "      <td>0.333333</td>\n",
       "      <td>80999.600000</td>\n",
       "    </tr>\n",
       "    <tr>\n",
       "      <th>Ham/Pork</th>\n",
       "      <td>4336757434</td>\n",
       "      <td>0.642857</td>\n",
       "      <td>77499.535714</td>\n",
       "    </tr>\n",
       "    <tr>\n",
       "      <th>I don't know</th>\n",
       "      <td>4335987430</td>\n",
       "      <td>0.000000</td>\n",
       "      <td>4999.500000</td>\n",
       "    </tr>\n",
       "    <tr>\n",
       "      <th>Other (please specify)</th>\n",
       "      <td>4336682072</td>\n",
       "      <td>1.000000</td>\n",
       "      <td>53213.785714</td>\n",
       "    </tr>\n",
       "    <tr>\n",
       "      <th>Roast beef</th>\n",
       "      <td>4336254414</td>\n",
       "      <td>0.571429</td>\n",
       "      <td>25499.500000</td>\n",
       "    </tr>\n",
       "    <tr>\n",
       "      <th>Tofurkey</th>\n",
       "      <td>4337156546</td>\n",
       "      <td>0.714286</td>\n",
       "      <td>100713.857143</td>\n",
       "    </tr>\n",
       "    <tr>\n",
       "      <th>Turkey</th>\n",
       "      <td>4336705225</td>\n",
       "      <td>0.544444</td>\n",
       "      <td>85242.682045</td>\n",
       "    </tr>\n",
       "    <tr>\n",
       "      <th rowspan=\"8\" valign=\"top\">Homemade</th>\n",
       "      <th>Chicken</th>\n",
       "      <td>4336539693</td>\n",
       "      <td>0.750000</td>\n",
       "      <td>19999.500000</td>\n",
       "    </tr>\n",
       "    <tr>\n",
       "      <th>Ham/Pork</th>\n",
       "      <td>4337252861</td>\n",
       "      <td>0.250000</td>\n",
       "      <td>96874.625000</td>\n",
       "    </tr>\n",
       "    <tr>\n",
       "      <th>I don't know</th>\n",
       "      <td>4336083561</td>\n",
       "      <td>1.000000</td>\n",
       "      <td>NaN</td>\n",
       "    </tr>\n",
       "    <tr>\n",
       "      <th>Other (please specify)</th>\n",
       "      <td>4336863306</td>\n",
       "      <td>0.600000</td>\n",
       "      <td>55356.642857</td>\n",
       "    </tr>\n",
       "    <tr>\n",
       "      <th>Roast beef</th>\n",
       "      <td>4336173790</td>\n",
       "      <td>0.000000</td>\n",
       "      <td>33749.500000</td>\n",
       "    </tr>\n",
       "    <tr>\n",
       "      <th>Tofurkey</th>\n",
       "      <td>4336789676</td>\n",
       "      <td>0.666667</td>\n",
       "      <td>57916.166667</td>\n",
       "    </tr>\n",
       "    <tr>\n",
       "      <th>Turducken</th>\n",
       "      <td>4337475308</td>\n",
       "      <td>0.500000</td>\n",
       "      <td>200000.000000</td>\n",
       "    </tr>\n",
       "    <tr>\n",
       "      <th>Turkey</th>\n",
       "      <td>4336790802</td>\n",
       "      <td>0.531008</td>\n",
       "      <td>97690.147982</td>\n",
       "    </tr>\n",
       "    <tr>\n",
       "      <th rowspan=\"8\" valign=\"top\">None</th>\n",
       "      <th>Chicken</th>\n",
       "      <td>4336150656</td>\n",
       "      <td>0.500000</td>\n",
       "      <td>11249.500000</td>\n",
       "    </tr>\n",
       "    <tr>\n",
       "      <th>Ham/Pork</th>\n",
       "      <td>4336679896</td>\n",
       "      <td>0.444444</td>\n",
       "      <td>61249.500000</td>\n",
       "    </tr>\n",
       "    <tr>\n",
       "      <th>I don't know</th>\n",
       "      <td>4336412261</td>\n",
       "      <td>0.500000</td>\n",
       "      <td>33749.500000</td>\n",
       "    </tr>\n",
       "    <tr>\n",
       "      <th>Other (please specify)</th>\n",
       "      <td>4336687790</td>\n",
       "      <td>0.600000</td>\n",
       "      <td>119106.678571</td>\n",
       "    </tr>\n",
       "    <tr>\n",
       "      <th>Roast beef</th>\n",
       "      <td>4337423740</td>\n",
       "      <td>0.000000</td>\n",
       "      <td>162499.500000</td>\n",
       "    </tr>\n",
       "    <tr>\n",
       "      <th>Tofurkey</th>\n",
       "      <td>4336950068</td>\n",
       "      <td>0.500000</td>\n",
       "      <td>112499.500000</td>\n",
       "    </tr>\n",
       "    <tr>\n",
       "      <th>Turducken</th>\n",
       "      <td>4336738591</td>\n",
       "      <td>0.000000</td>\n",
       "      <td>NaN</td>\n",
       "    </tr>\n",
       "    <tr>\n",
       "      <th>Turkey</th>\n",
       "      <td>4336784218</td>\n",
       "      <td>0.523364</td>\n",
       "      <td>74606.275281</td>\n",
       "    </tr>\n",
       "    <tr>\n",
       "      <th rowspan=\"4\" valign=\"top\">Other (please specify)</th>\n",
       "      <th>Ham/Pork</th>\n",
       "      <td>4336465104</td>\n",
       "      <td>1.000000</td>\n",
       "      <td>87499.500000</td>\n",
       "    </tr>\n",
       "    <tr>\n",
       "      <th>Other (please specify)</th>\n",
       "      <td>4337335395</td>\n",
       "      <td>0.000000</td>\n",
       "      <td>124999.666667</td>\n",
       "    </tr>\n",
       "    <tr>\n",
       "      <th>Tofurkey</th>\n",
       "      <td>4336121663</td>\n",
       "      <td>1.000000</td>\n",
       "      <td>37499.500000</td>\n",
       "    </tr>\n",
       "    <tr>\n",
       "      <th>Turkey</th>\n",
       "      <td>4336724418</td>\n",
       "      <td>0.700000</td>\n",
       "      <td>82916.194444</td>\n",
       "    </tr>\n",
       "  </tbody>\n",
       "</table>\n",
       "</div>"
      ],
      "text/plain": [
       "                                                                                                       RespondentID  \\\n",
       "What type of cranberry saucedo you typically have? What is typically the main dish at your Thanksg...                 \n",
       "Canned                                             Chicken                                               4336354418   \n",
       "                                                   Ham/Pork                                              4336757434   \n",
       "                                                   I don't know                                          4335987430   \n",
       "                                                   Other (please specify)                                4336682072   \n",
       "                                                   Roast beef                                            4336254414   \n",
       "                                                   Tofurkey                                              4337156546   \n",
       "                                                   Turkey                                                4336705225   \n",
       "Homemade                                           Chicken                                               4336539693   \n",
       "                                                   Ham/Pork                                              4337252861   \n",
       "                                                   I don't know                                          4336083561   \n",
       "                                                   Other (please specify)                                4336863306   \n",
       "                                                   Roast beef                                            4336173790   \n",
       "                                                   Tofurkey                                              4336789676   \n",
       "                                                   Turducken                                             4337475308   \n",
       "                                                   Turkey                                                4336790802   \n",
       "None                                               Chicken                                               4336150656   \n",
       "                                                   Ham/Pork                                              4336679896   \n",
       "                                                   I don't know                                          4336412261   \n",
       "                                                   Other (please specify)                                4336687790   \n",
       "                                                   Roast beef                                            4337423740   \n",
       "                                                   Tofurkey                                              4336950068   \n",
       "                                                   Turducken                                             4336738591   \n",
       "                                                   Turkey                                                4336784218   \n",
       "Other (please specify)                             Ham/Pork                                              4336465104   \n",
       "                                                   Other (please specify)                                4337335395   \n",
       "                                                   Tofurkey                                              4336121663   \n",
       "                                                   Turkey                                                4336724418   \n",
       "\n",
       "                                                                                                         gender  \\\n",
       "What type of cranberry saucedo you typically have? What is typically the main dish at your Thanksg...             \n",
       "Canned                                             Chicken                                             0.333333   \n",
       "                                                   Ham/Pork                                            0.642857   \n",
       "                                                   I don't know                                        0.000000   \n",
       "                                                   Other (please specify)                              1.000000   \n",
       "                                                   Roast beef                                          0.571429   \n",
       "                                                   Tofurkey                                            0.714286   \n",
       "                                                   Turkey                                              0.544444   \n",
       "Homemade                                           Chicken                                             0.750000   \n",
       "                                                   Ham/Pork                                            0.250000   \n",
       "                                                   I don't know                                        1.000000   \n",
       "                                                   Other (please specify)                              0.600000   \n",
       "                                                   Roast beef                                          0.000000   \n",
       "                                                   Tofurkey                                            0.666667   \n",
       "                                                   Turducken                                           0.500000   \n",
       "                                                   Turkey                                              0.531008   \n",
       "None                                               Chicken                                             0.500000   \n",
       "                                                   Ham/Pork                                            0.444444   \n",
       "                                                   I don't know                                        0.500000   \n",
       "                                                   Other (please specify)                              0.600000   \n",
       "                                                   Roast beef                                          0.000000   \n",
       "                                                   Tofurkey                                            0.500000   \n",
       "                                                   Turducken                                           0.000000   \n",
       "                                                   Turkey                                              0.523364   \n",
       "Other (please specify)                             Ham/Pork                                            1.000000   \n",
       "                                                   Other (please specify)                              0.000000   \n",
       "                                                   Tofurkey                                            1.000000   \n",
       "                                                   Turkey                                              0.700000   \n",
       "\n",
       "                                                                                                              income  \n",
       "What type of cranberry saucedo you typically have? What is typically the main dish at your Thanksg...                 \n",
       "Canned                                             Chicken                                              80999.600000  \n",
       "                                                   Ham/Pork                                             77499.535714  \n",
       "                                                   I don't know                                          4999.500000  \n",
       "                                                   Other (please specify)                               53213.785714  \n",
       "                                                   Roast beef                                           25499.500000  \n",
       "                                                   Tofurkey                                            100713.857143  \n",
       "                                                   Turkey                                               85242.682045  \n",
       "Homemade                                           Chicken                                              19999.500000  \n",
       "                                                   Ham/Pork                                             96874.625000  \n",
       "                                                   I don't know                                                  NaN  \n",
       "                                                   Other (please specify)                               55356.642857  \n",
       "                                                   Roast beef                                           33749.500000  \n",
       "                                                   Tofurkey                                             57916.166667  \n",
       "                                                   Turducken                                           200000.000000  \n",
       "                                                   Turkey                                               97690.147982  \n",
       "None                                               Chicken                                              11249.500000  \n",
       "                                                   Ham/Pork                                             61249.500000  \n",
       "                                                   I don't know                                         33749.500000  \n",
       "                                                   Other (please specify)                              119106.678571  \n",
       "                                                   Roast beef                                          162499.500000  \n",
       "                                                   Tofurkey                                            112499.500000  \n",
       "                                                   Turducken                                                     NaN  \n",
       "                                                   Turkey                                               74606.275281  \n",
       "Other (please specify)                             Ham/Pork                                             87499.500000  \n",
       "                                                   Other (please specify)                              124999.666667  \n",
       "                                                   Tofurkey                                             37499.500000  \n",
       "                                                   Turkey                                               82916.194444  "
      ]
     },
     "execution_count": 94,
     "metadata": {},
     "output_type": "execute_result"
    }
   ],
   "source": [
    "grouped = data.groupby([\"What type of cranberry saucedo you typically have?\", \"What is typically the main dish at your Thanksgiving dinner?\"])\n",
    "grouped.agg(np.mean)"
   ]
  },
  {
   "cell_type": "code",
   "execution_count": 96,
   "metadata": {
    "collapsed": false
   },
   "outputs": [
    {
     "data": {
      "text/html": [
       "<div>\n",
       "<table border=\"1\" class=\"dataframe\">\n",
       "  <thead>\n",
       "    <tr style=\"text-align: right;\">\n",
       "      <th></th>\n",
       "      <th></th>\n",
       "      <th>mean</th>\n",
       "      <th>sum</th>\n",
       "      <th>std</th>\n",
       "    </tr>\n",
       "    <tr>\n",
       "      <th>What type of cranberry saucedo you typically have?</th>\n",
       "      <th>What is typically the main dish at your Thanksgiving dinner?</th>\n",
       "      <th></th>\n",
       "      <th></th>\n",
       "      <th></th>\n",
       "    </tr>\n",
       "  </thead>\n",
       "  <tbody>\n",
       "    <tr>\n",
       "      <th rowspan=\"7\" valign=\"top\">Canned</th>\n",
       "      <th>Chicken</th>\n",
       "      <td>80999.600000</td>\n",
       "      <td>404998.0</td>\n",
       "      <td>75779.481062</td>\n",
       "    </tr>\n",
       "    <tr>\n",
       "      <th>Ham/Pork</th>\n",
       "      <td>77499.535714</td>\n",
       "      <td>1084993.5</td>\n",
       "      <td>56645.063944</td>\n",
       "    </tr>\n",
       "    <tr>\n",
       "      <th>I don't know</th>\n",
       "      <td>4999.500000</td>\n",
       "      <td>4999.5</td>\n",
       "      <td>NaN</td>\n",
       "    </tr>\n",
       "    <tr>\n",
       "      <th>Other (please specify)</th>\n",
       "      <td>53213.785714</td>\n",
       "      <td>372496.5</td>\n",
       "      <td>29780.946290</td>\n",
       "    </tr>\n",
       "    <tr>\n",
       "      <th>Roast beef</th>\n",
       "      <td>25499.500000</td>\n",
       "      <td>127497.5</td>\n",
       "      <td>24584.039538</td>\n",
       "    </tr>\n",
       "    <tr>\n",
       "      <th>Tofurkey</th>\n",
       "      <td>100713.857143</td>\n",
       "      <td>704997.0</td>\n",
       "      <td>61351.484439</td>\n",
       "    </tr>\n",
       "    <tr>\n",
       "      <th>Turkey</th>\n",
       "      <td>85242.682045</td>\n",
       "      <td>34182315.5</td>\n",
       "      <td>55687.436102</td>\n",
       "    </tr>\n",
       "    <tr>\n",
       "      <th rowspan=\"3\" valign=\"top\">Homemade</th>\n",
       "      <th>Chicken</th>\n",
       "      <td>19999.500000</td>\n",
       "      <td>59998.5</td>\n",
       "      <td>16393.596311</td>\n",
       "    </tr>\n",
       "    <tr>\n",
       "      <th>Ham/Pork</th>\n",
       "      <td>96874.625000</td>\n",
       "      <td>387498.5</td>\n",
       "      <td>77308.452805</td>\n",
       "    </tr>\n",
       "    <tr>\n",
       "      <th>I don't know</th>\n",
       "      <td>NaN</td>\n",
       "      <td>NaN</td>\n",
       "      <td>NaN</td>\n",
       "    </tr>\n",
       "  </tbody>\n",
       "</table>\n",
       "</div>"
      ],
      "text/plain": [
       "                                                                                                                mean  \\\n",
       "What type of cranberry saucedo you typically have? What is typically the main dish at your Thanksg...                  \n",
       "Canned                                             Chicken                                              80999.600000   \n",
       "                                                   Ham/Pork                                             77499.535714   \n",
       "                                                   I don't know                                          4999.500000   \n",
       "                                                   Other (please specify)                               53213.785714   \n",
       "                                                   Roast beef                                           25499.500000   \n",
       "                                                   Tofurkey                                            100713.857143   \n",
       "                                                   Turkey                                               85242.682045   \n",
       "Homemade                                           Chicken                                              19999.500000   \n",
       "                                                   Ham/Pork                                             96874.625000   \n",
       "                                                   I don't know                                                  NaN   \n",
       "\n",
       "                                                                                                              sum  \\\n",
       "What type of cranberry saucedo you typically have? What is typically the main dish at your Thanksg...               \n",
       "Canned                                             Chicken                                               404998.0   \n",
       "                                                   Ham/Pork                                             1084993.5   \n",
       "                                                   I don't know                                            4999.5   \n",
       "                                                   Other (please specify)                                372496.5   \n",
       "                                                   Roast beef                                            127497.5   \n",
       "                                                   Tofurkey                                              704997.0   \n",
       "                                                   Turkey                                              34182315.5   \n",
       "Homemade                                           Chicken                                                59998.5   \n",
       "                                                   Ham/Pork                                              387498.5   \n",
       "                                                   I don't know                                               NaN   \n",
       "\n",
       "                                                                                                                std  \n",
       "What type of cranberry saucedo you typically have? What is typically the main dish at your Thanksg...                \n",
       "Canned                                             Chicken                                             75779.481062  \n",
       "                                                   Ham/Pork                                            56645.063944  \n",
       "                                                   I don't know                                                 NaN  \n",
       "                                                   Other (please specify)                              29780.946290  \n",
       "                                                   Roast beef                                          24584.039538  \n",
       "                                                   Tofurkey                                            61351.484439  \n",
       "                                                   Turkey                                              55687.436102  \n",
       "Homemade                                           Chicken                                             16393.596311  \n",
       "                                                   Ham/Pork                                            77308.452805  \n",
       "                                                   I don't know                                                 NaN  "
      ]
     },
     "execution_count": 96,
     "metadata": {},
     "output_type": "execute_result"
    }
   ],
   "source": [
    "grouped[\"income\"].agg([np.mean, np.sum, np.std]).head(10)"
   ]
  },
  {
   "cell_type": "code",
   "execution_count": 97,
   "metadata": {
    "collapsed": true
   },
   "outputs": [],
   "source": [
    "grouped = data.groupby(\"How would you describe where you live?\")[\"What is typically the main dish at your Thanksgiving dinner?\"]"
   ]
  },
  {
   "cell_type": "code",
   "execution_count": 101,
   "metadata": {
    "collapsed": false
   },
   "outputs": [
    {
     "data": {
      "text/plain": [
       "How would you describe where you live?                        \n",
       "Rural                                   Turkey                    189\n",
       "                                        Other (please specify)      9\n",
       "                                        Ham/Pork                    7\n",
       "                                        I don't know                3\n",
       "                                        Tofurkey                    3\n",
       "                                        Chicken                     2\n",
       "                                        Turducken                   2\n",
       "                                        Roast beef                  1\n",
       "Suburban                                Turkey                    449\n",
       "                                        Ham/Pork                   17\n",
       "                                        Other (please specify)     13\n",
       "                                        Tofurkey                    9\n",
       "                                        Chicken                     3\n",
       "                                        Roast beef                  3\n",
       "                                        I don't know                1\n",
       "                                        Turducken                   1\n",
       "Urban                                   Turkey                    198\n",
       "                                        Other (please specify)     13\n",
       "                                        Tofurkey                    8\n",
       "                                        Chicken                     7\n",
       "                                        Roast beef                  6\n",
       "                                        Ham/Pork                    4\n",
       "Name: What is typically the main dish at your Thanksgiving dinner?, dtype: int64"
      ]
     },
     "execution_count": 101,
     "metadata": {},
     "output_type": "execute_result"
    }
   ],
   "source": [
    "grouped.apply(lambda x: x.value_counts())"
   ]
  },
  {
   "cell_type": "code",
   "execution_count": null,
   "metadata": {
    "collapsed": true
   },
   "outputs": [],
   "source": []
  }
 ],
 "metadata": {
  "anaconda-cloud": {},
  "kernelspec": {
   "display_name": "Python [Root]",
   "language": "python",
   "name": "Python [Root]"
  },
  "language_info": {
   "codemirror_mode": {
    "name": "ipython",
    "version": 3
   },
   "file_extension": ".py",
   "mimetype": "text/x-python",
   "name": "python",
   "nbconvert_exporter": "python",
   "pygments_lexer": "ipython3",
   "version": "3.5.2"
  }
 },
 "nbformat": 4,
 "nbformat_minor": 0
}
